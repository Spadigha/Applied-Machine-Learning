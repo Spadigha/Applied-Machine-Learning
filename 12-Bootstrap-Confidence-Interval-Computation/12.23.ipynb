{
 "cells": [
  {
   "cell_type": "markdown",
   "metadata": {
    "colab_type": "text",
    "id": "fct-NTjcYNZ0"
   },
   "source": [
    "# Empirical bootstrap based Confidence Interval"
   ]
  },
  {
   "cell_type": "code",
   "execution_count": 1,
   "metadata": {
    "colab": {},
    "colab_type": "code",
    "id": "1Z7NCqEcYNZ4",
    "outputId": "04b1a8a4-89e4-4edb-cc7b-504947fc3116"
   },
   "outputs": [],
   "source": [
    "import numpy\n",
    "#from pandas import read_csv\n",
    "from sklearn.utils import resample\n",
    "#from sklearn.metrics import accuracy_score\n",
    "from matplotlib import pyplot\n",
    "\n"
   ]
  },
  {
   "cell_type": "code",
   "execution_count": 2,
   "metadata": {
    "colab": {},
    "colab_type": "code",
    "id": "0GdCL0KzYNZ_"
   },
   "outputs": [],
   "source": [
    "# load dataset\n",
    "x = numpy.array([180,162,158,172,168,150,171,183,165,176])"
   ]
  },
  {
   "cell_type": "code",
   "execution_count": 3,
   "metadata": {},
   "outputs": [],
   "source": [
    "# configure bootstrap\n",
    "\n",
    "# k\n",
    "n_iterations = 1000 \n",
    "\n",
    "# m (m<=n we are taking here m=n as n itself is very small)\n",
    "m_bootstrap = int(len(x))"
   ]
  },
  {
   "cell_type": "code",
   "execution_count": 4,
   "metadata": {},
   "outputs": [],
   "source": [
    "# run bootstrap\n",
    "medians = list()\n",
    "for i in range(n_iterations):\n",
    "    # prepare train and test sets\n",
    "    s = resample(x, n_samples=m_bootstrap);\n",
    "    bootstrap_median = numpy.median(s);\n",
    "    #print(bootstrap_median)\n",
    "    medians.append(bootstrap_median)"
   ]
  },
  {
   "cell_type": "code",
   "execution_count": 5,
   "metadata": {},
   "outputs": [
    {
     "data": {
      "image/png": "[encoded data removed]",
      "text/plain": [
       "<Figure size 432x288 with 1 Axes>"
      ]
     },
     "metadata": {
      "needs_background": "light"
     },
     "output_type": "display_data"
    }
   ],
   "source": [
    "# plot scores\n",
    "pyplot.hist(medians)\n",
    "pyplot.show()"
   ]
  },
  {
   "cell_type": "code",
   "execution_count": 6,
   "metadata": {},
   "outputs": [
    {
     "name": "stdout",
     "output_type": "stream",
     "text": [
      "95.0 confidence interval 162.0 and 176.0\n"
     ]
    }
   ],
   "source": [
    "# confidence intervals\n",
    "alpha = 0.95\n",
    "\n",
    "# calculating lower C.I i.e 2.5% for 2.5th percentile value\n",
    "p = ((1.0-alpha)/2.0) * 100\n",
    "lower =  numpy.percentile(medians, p)\n",
    "\n",
    "# calculating lower C.I i.e 97.5% for 97.5th percentile value\n",
    "p = (alpha+((1.0-alpha)/2.0)) * 100\n",
    "upper =  numpy.percentile(medians, p)\n",
    "print('%.1f confidence interval %.1f and %.1f' % (alpha*100, lower, upper))"
   ]
  }
 ],
 "metadata": {
  "colab": {
   "name": "12.23.ipynb",
   "provenance": [],
   "version": "0.3.2"
  },
  "kernelspec": {
   "display_name": "Python 3",
   "language": "python",
   "name": "python3"
  },
  "language_info": {
   "codemirror_mode": {
    "name": "ipython",
    "version": 3
   },
   "file_extension": ".py",
   "mimetype": "text/x-python",
   "name": "python",
   "nbconvert_exporter": "python",
   "pygments_lexer": "ipython3",
   "version": "3.7.3"
  }
 },
 "nbformat": 4,
 "nbformat_minor": 1
}
