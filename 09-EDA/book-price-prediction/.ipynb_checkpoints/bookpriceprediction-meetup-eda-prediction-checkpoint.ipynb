{
 "cells": [
  {
   "cell_type": "code",
   "execution_count": 1,
   "metadata": {},
   "outputs": [],
   "source": [
    "import numpy as np\n",
    "import pandas as pd\n",
    "import matplotlib.pyplot as plt\n",
    "import os\n",
    "import seaborn as sns"
   ]
  },
  {
   "cell_type": "code",
   "execution_count": 2,
   "metadata": {},
   "outputs": [
    {
     "name": "stdout",
     "output_type": "stream",
     "text": [
      "Python 3.7.3\n"
     ]
    }
   ],
   "source": [
    "!python --version"
   ]
  },
  {
   "cell_type": "code",
   "execution_count": 3,
   "metadata": {},
   "outputs": [],
   "source": [
    "train_df = pd.read_excel('Data_Train.xlsx')\n",
    "test_df = pd.read_excel('Data_Test.xlsx')\n",
    "combine = [train_df, test_df]"
   ]
  },
  {
   "cell_type": "code",
   "execution_count": 4,
   "metadata": {},
   "outputs": [
    {
     "name": "stdout",
     "output_type": "stream",
     "text": [
      "========================================\n",
      "(6237, 9)\n",
      "Index(['Title', 'Author', 'Edition', 'Reviews', 'Ratings', 'Synopsis', 'Genre',\n",
      "       'BookCategory', 'Price'],\n",
      "      dtype='object')\n",
      "========================================\n",
      "<class 'pandas.core.frame.DataFrame'>\n",
      "RangeIndex: 6237 entries, 0 to 6236\n",
      "Data columns (total 9 columns):\n",
      "Title           6237 non-null object\n",
      "Author          6237 non-null object\n",
      "Edition         6237 non-null object\n",
      "Reviews         6237 non-null object\n",
      "Ratings         6237 non-null object\n",
      "Synopsis        6237 non-null object\n",
      "Genre           6237 non-null object\n",
      "BookCategory    6237 non-null object\n",
      "Price           6237 non-null float64\n",
      "dtypes: float64(1), object(8)\n",
      "memory usage: 438.6+ KB\n",
      "None\n",
      "========================================\n",
      "========================================\n",
      "(1560, 8)\n",
      "Index(['Title', 'Author', 'Edition', 'Reviews', 'Ratings', 'Synopsis', 'Genre',\n",
      "       'BookCategory'],\n",
      "      dtype='object')\n",
      "========================================\n",
      "<class 'pandas.core.frame.DataFrame'>\n",
      "RangeIndex: 1560 entries, 0 to 1559\n",
      "Data columns (total 8 columns):\n",
      "Title           1560 non-null object\n",
      "Author          1560 non-null object\n",
      "Edition         1560 non-null object\n",
      "Reviews         1560 non-null object\n",
      "Ratings         1560 non-null object\n",
      "Synopsis        1560 non-null object\n",
      "Genre           1560 non-null object\n",
      "BookCategory    1560 non-null object\n",
      "dtypes: object(8)\n",
      "memory usage: 97.6+ KB\n",
      "None\n",
      "========================================\n"
     ]
    }
   ],
   "source": [
    "for df in combine:\n",
    "    print(\"=\"*40)\n",
    "    print(df.shape)\n",
    "    print(df.columns)\n",
    "    print(\"=\"*40)\n",
    "    # check null entries\n",
    "    print(df.info())\n",
    "    print(\"=\"*40)\n"
   ]
  },
  {
   "cell_type": "code",
   "execution_count": 5,
   "metadata": {},
   "outputs": [
    {
     "data": {
      "text/html": [
       "<div>\n",
       "<style scoped>\n",
       "    .dataframe tbody tr th:only-of-type {\n",
       "        vertical-align: middle;\n",
       "    }\n",
       "\n",
       "    .dataframe tbody tr th {\n",
       "        vertical-align: top;\n",
       "    }\n",
       "\n",
       "    .dataframe thead th {\n",
       "        text-align: right;\n",
       "    }\n",
       "</style>\n",
       "<table border=\"1\" class=\"dataframe\">\n",
       "  <thead>\n",
       "    <tr style=\"text-align: right;\">\n",
       "      <th></th>\n",
       "      <th>Title</th>\n",
       "      <th>Author</th>\n",
       "      <th>Edition</th>\n",
       "      <th>Reviews</th>\n",
       "      <th>Ratings</th>\n",
       "      <th>Synopsis</th>\n",
       "      <th>Genre</th>\n",
       "      <th>BookCategory</th>\n",
       "      <th>Price</th>\n",
       "    </tr>\n",
       "  </thead>\n",
       "  <tbody>\n",
       "    <tr>\n",
       "      <th>0</th>\n",
       "      <td>The Prisoner's Gold (The Hunters 3)</td>\n",
       "      <td>Chris Kuzneski</td>\n",
       "      <td>Paperback,– 10 Mar 2016</td>\n",
       "      <td>4.0 out of 5 stars</td>\n",
       "      <td>8 customer reviews</td>\n",
       "      <td>THE HUNTERS return in their third brilliant no...</td>\n",
       "      <td>Action &amp; Adventure (Books)</td>\n",
       "      <td>Action &amp; Adventure</td>\n",
       "      <td>220.00</td>\n",
       "    </tr>\n",
       "    <tr>\n",
       "      <th>1</th>\n",
       "      <td>Guru Dutt: A Tragedy in Three Acts</td>\n",
       "      <td>Arun Khopkar</td>\n",
       "      <td>Paperback,– 7 Nov 2012</td>\n",
       "      <td>3.9 out of 5 stars</td>\n",
       "      <td>14 customer reviews</td>\n",
       "      <td>A layered portrait of a troubled genius for wh...</td>\n",
       "      <td>Cinema &amp; Broadcast (Books)</td>\n",
       "      <td>Biographies, Diaries &amp; True Accounts</td>\n",
       "      <td>202.93</td>\n",
       "    </tr>\n",
       "    <tr>\n",
       "      <th>2</th>\n",
       "      <td>Leviathan (Penguin Classics)</td>\n",
       "      <td>Thomas Hobbes</td>\n",
       "      <td>Paperback,– 25 Feb 1982</td>\n",
       "      <td>4.8 out of 5 stars</td>\n",
       "      <td>6 customer reviews</td>\n",
       "      <td>\"During the time men live without a common Pow...</td>\n",
       "      <td>International Relations</td>\n",
       "      <td>Humour</td>\n",
       "      <td>299.00</td>\n",
       "    </tr>\n",
       "    <tr>\n",
       "      <th>3</th>\n",
       "      <td>A Pocket Full of Rye (Miss Marple)</td>\n",
       "      <td>Agatha Christie</td>\n",
       "      <td>Paperback,– 5 Oct 2017</td>\n",
       "      <td>4.1 out of 5 stars</td>\n",
       "      <td>13 customer reviews</td>\n",
       "      <td>A handful of grain is found in the pocket of a...</td>\n",
       "      <td>Contemporary Fiction (Books)</td>\n",
       "      <td>Crime, Thriller &amp; Mystery</td>\n",
       "      <td>180.00</td>\n",
       "    </tr>\n",
       "    <tr>\n",
       "      <th>4</th>\n",
       "      <td>LIFE 70 Years of Extraordinary Photography</td>\n",
       "      <td>Editors of Life</td>\n",
       "      <td>Hardcover,– 10 Oct 2006</td>\n",
       "      <td>5.0 out of 5 stars</td>\n",
       "      <td>1 customer review</td>\n",
       "      <td>For seven decades, \"Life\" has been thrilling t...</td>\n",
       "      <td>Photography Textbooks</td>\n",
       "      <td>Arts, Film &amp; Photography</td>\n",
       "      <td>965.62</td>\n",
       "    </tr>\n",
       "  </tbody>\n",
       "</table>\n",
       "</div>"
      ],
      "text/plain": [
       "                                        Title           Author  \\\n",
       "0         The Prisoner's Gold (The Hunters 3)   Chris Kuzneski   \n",
       "1          Guru Dutt: A Tragedy in Three Acts     Arun Khopkar   \n",
       "2                Leviathan (Penguin Classics)    Thomas Hobbes   \n",
       "3          A Pocket Full of Rye (Miss Marple)  Agatha Christie   \n",
       "4  LIFE 70 Years of Extraordinary Photography  Editors of Life   \n",
       "\n",
       "                   Edition             Reviews              Ratings  \\\n",
       "0  Paperback,– 10 Mar 2016  4.0 out of 5 stars   8 customer reviews   \n",
       "1   Paperback,– 7 Nov 2012  3.9 out of 5 stars  14 customer reviews   \n",
       "2  Paperback,– 25 Feb 1982  4.8 out of 5 stars   6 customer reviews   \n",
       "3   Paperback,– 5 Oct 2017  4.1 out of 5 stars  13 customer reviews   \n",
       "4  Hardcover,– 10 Oct 2006  5.0 out of 5 stars    1 customer review   \n",
       "\n",
       "                                            Synopsis  \\\n",
       "0  THE HUNTERS return in their third brilliant no...   \n",
       "1  A layered portrait of a troubled genius for wh...   \n",
       "2  \"During the time men live without a common Pow...   \n",
       "3  A handful of grain is found in the pocket of a...   \n",
       "4  For seven decades, \"Life\" has been thrilling t...   \n",
       "\n",
       "                          Genre                          BookCategory   Price  \n",
       "0    Action & Adventure (Books)                    Action & Adventure  220.00  \n",
       "1    Cinema & Broadcast (Books)  Biographies, Diaries & True Accounts  202.93  \n",
       "2       International Relations                                Humour  299.00  \n",
       "3  Contemporary Fiction (Books)             Crime, Thriller & Mystery  180.00  \n",
       "4         Photography Textbooks              Arts, Film & Photography  965.62  "
      ]
     },
     "execution_count": 5,
     "metadata": {},
     "output_type": "execute_result"
    }
   ],
   "source": [
    "train_df.head()"
   ]
  },
  {
   "cell_type": "markdown",
   "metadata": {},
   "source": [
    "**Obesrvations:**\n",
    "- extract \n",
    "    - edition type\n",
    "    - year\n",
    "    - month\n",
    "    - reviews / 5\n",
    "    - ratings\n",
    "    - encode genere and book category\n",
    "- Don't Deal with `Title`, `Author`, `synopsis` for now"
   ]
  },
  {
   "cell_type": "code",
   "execution_count": 6,
   "metadata": {},
   "outputs": [
    {
     "name": "stdout",
     "output_type": "stream",
     "text": [
      "count     6237.000000\n",
      "mean       560.707516\n",
      "std        690.110657\n",
      "min         25.000000\n",
      "25%        249.180000\n",
      "50%        373.000000\n",
      "75%        599.000000\n",
      "max      14100.000000\n",
      "Name: Price, dtype: float64\n"
     ]
    },
    {
     "data": {
      "image/png": "[encoded data removed]",
      "text/plain": [
       "<Figure size 432x288 with 1 Axes>"
      ]
     },
     "metadata": {
      "needs_background": "light"
     },
     "output_type": "display_data"
    }
   ],
   "source": [
    "#check price\n",
    "print(train_df[\"Price\"].describe())\n",
    "sns.distplot(train_df[\"Price\"]);"
   ]
  },
  {
   "cell_type": "code",
   "execution_count": 7,
   "metadata": {},
   "outputs": [
    {
     "data": {
      "image/png": "[encoded data removed]",
      "text/plain": [
       "<Figure size 432x288 with 1 Axes>"
      ]
     },
     "metadata": {
      "needs_background": "light"
     },
     "output_type": "display_data"
    }
   ],
   "source": [
    "sns.boxplot(train_df['Price']);"
   ]
  },
  {
   "cell_type": "markdown",
   "metadata": {},
   "source": [
    "Observations:\n",
    "    - Many outliers\n",
    "    \n",
    "Inference:\n",
    "    - Use Log Transform"
   ]
  },
  {
   "cell_type": "code",
   "execution_count": 8,
   "metadata": {},
   "outputs": [
    {
     "data": {
      "image/png": "[encoded data removed]",
      "text/plain": [
       "<Figure size 432x288 with 1 Axes>"
      ]
     },
     "metadata": {
      "needs_background": "light"
     },
     "output_type": "display_data"
    }
   ],
   "source": [
    "train_df['Log Price'] = np.log(train_df['Price'])\n",
    "sns.boxplot(train_df['Log Price']);"
   ]
  },
  {
   "cell_type": "code",
   "execution_count": 9,
   "metadata": {},
   "outputs": [
    {
     "data": {
      "image/png": "[encoded data removed]",
      "text/plain": [
       "<Figure size 432x288 with 1 Axes>"
      ]
     },
     "metadata": {
      "needs_background": "light"
     },
     "output_type": "display_data"
    }
   ],
   "source": [
    "train_df['Log Price'].hist();"
   ]
  },
  {
   "cell_type": "code",
   "execution_count": 10,
   "metadata": {},
   "outputs": [
    {
     "data": {
      "text/html": [
       "<div>\n",
       "<style scoped>\n",
       "    .dataframe tbody tr th:only-of-type {\n",
       "        vertical-align: middle;\n",
       "    }\n",
       "\n",
       "    .dataframe tbody tr th {\n",
       "        vertical-align: top;\n",
       "    }\n",
       "\n",
       "    .dataframe thead th {\n",
       "        text-align: right;\n",
       "    }\n",
       "</style>\n",
       "<table border=\"1\" class=\"dataframe\">\n",
       "  <thead>\n",
       "    <tr style=\"text-align: right;\">\n",
       "      <th></th>\n",
       "      <th>Price</th>\n",
       "      <th>Log Price</th>\n",
       "    </tr>\n",
       "  </thead>\n",
       "  <tbody>\n",
       "    <tr>\n",
       "      <th>0</th>\n",
       "      <td>220.00</td>\n",
       "      <td>5.393628</td>\n",
       "    </tr>\n",
       "    <tr>\n",
       "      <th>1</th>\n",
       "      <td>202.93</td>\n",
       "      <td>5.312861</td>\n",
       "    </tr>\n",
       "    <tr>\n",
       "      <th>2</th>\n",
       "      <td>299.00</td>\n",
       "      <td>5.700444</td>\n",
       "    </tr>\n",
       "    <tr>\n",
       "      <th>3</th>\n",
       "      <td>180.00</td>\n",
       "      <td>5.192957</td>\n",
       "    </tr>\n",
       "    <tr>\n",
       "      <th>4</th>\n",
       "      <td>965.62</td>\n",
       "      <td>6.872770</td>\n",
       "    </tr>\n",
       "  </tbody>\n",
       "</table>\n",
       "</div>"
      ],
      "text/plain": [
       "    Price  Log Price\n",
       "0  220.00   5.393628\n",
       "1  202.93   5.312861\n",
       "2  299.00   5.700444\n",
       "3  180.00   5.192957\n",
       "4  965.62   6.872770"
      ]
     },
     "execution_count": 10,
     "metadata": {},
     "output_type": "execute_result"
    }
   ],
   "source": [
    "train_df[['Price','Log Price']].head()"
   ]
  },
  {
   "cell_type": "code",
   "execution_count": 11,
   "metadata": {},
   "outputs": [
    {
     "data": {
      "text/plain": [
       "0    220.00\n",
       "1    202.93\n",
       "2    299.00\n",
       "3    180.00\n",
       "4    965.62\n",
       "Name: Log Price, dtype: float64"
      ]
     },
     "execution_count": 11,
     "metadata": {},
     "output_type": "execute_result"
    }
   ],
   "source": [
    "np.exp(train_df['Log Price'].head())"
   ]
  },
  {
   "cell_type": "code",
   "execution_count": 12,
   "metadata": {},
   "outputs": [],
   "source": [
    "# extract year\n",
    "for df in combine:\n",
    "    df['Year'] = df['Edition'].map(lambda s: s[-4:]) #.astype('int')"
   ]
  },
  {
   "cell_type": "code",
   "execution_count": 13,
   "metadata": {},
   "outputs": [
    {
     "name": "stdout",
     "output_type": "stream",
     "text": [
      "['Title' 'Author' 'Edition' 'Reviews' 'Ratings' 'Synopsis' 'Genre'\n",
      " 'BookCategory' 'Price' 'Log Price' 'Year']\n",
      "(6237, 11)\n",
      "['Title' 'Author' 'Edition' 'Reviews' 'Ratings' 'Synopsis' 'Genre'\n",
      " 'BookCategory' 'Year']\n",
      "(1560, 9)\n"
     ]
    }
   ],
   "source": [
    "# check columns\n",
    "for df in combine:\n",
    "    print(df.columns.values)\n",
    "    print(df.shape)"
   ]
  },
  {
   "cell_type": "code",
   "execution_count": 14,
   "metadata": {},
   "outputs": [
    {
     "data": {
      "text/plain": [
       "0    1986\n",
       "1    2018\n",
       "2    2011\n",
       "3    2016\n",
       "4    2011\n",
       "Name: Year, dtype: object"
      ]
     },
     "execution_count": 14,
     "metadata": {},
     "output_type": "execute_result"
    }
   ],
   "source": [
    "test_df['Year'].head()"
   ]
  },
  {
   "cell_type": "code",
   "execution_count": 15,
   "metadata": {},
   "outputs": [],
   "source": [
    "# note `object` dtype for year above\n",
    "# convert str to int (year)\n",
    "for df in combine:\n",
    "    k = 0\n",
    "    for i in range(len(df['Year'].values)):\n",
    "        x = df.loc[i, 'Year']\n",
    "        if not x.isnumeric():\n",
    "            df.loc[i, 'Year'] = 0\n",
    "\n",
    "    df['Year'] = df['Year'].astype('int')"
   ]
  },
  {
   "cell_type": "code",
   "execution_count": 16,
   "metadata": {},
   "outputs": [
    {
     "name": "stdout",
     "output_type": "stream",
     "text": [
      "count    6237.000000\n",
      "mean     2005.101972\n",
      "std       116.821510\n",
      "min         0.000000\n",
      "25%      2010.000000\n",
      "50%      2014.000000\n",
      "75%      2017.000000\n",
      "max      2019.000000\n",
      "Name: Year, dtype: float64\n"
     ]
    },
    {
     "data": {
      "image/png": "[encoded data removed]",
      "text/plain": [
       "<Figure size 432x288 with 1 Axes>"
      ]
     },
     "metadata": {
      "needs_background": "light"
     },
     "output_type": "display_data"
    }
   ],
   "source": [
    "# check dtype changed or not\n",
    "print(train_df[\"Year\"].describe())\n",
    "\n",
    "# visualize\n",
    "sns.boxplot(train_df['Year']);"
   ]
  },
  {
   "cell_type": "code",
   "execution_count": 17,
   "metadata": {},
   "outputs": [],
   "source": [
    "# extract from Ratings\n",
    "for df in combine:\n",
    "    df['NumReviews'] = df['Ratings'].map(lambda s: s.split(' customer')[0])"
   ]
  },
  {
   "cell_type": "code",
   "execution_count": 18,
   "metadata": {},
   "outputs": [
    {
     "data": {
      "text/plain": [
       "0    960\n",
       "1      1\n",
       "2      4\n",
       "3     11\n",
       "4      9\n",
       "Name: NumReviews, dtype: object"
      ]
     },
     "execution_count": 18,
     "metadata": {},
     "output_type": "execute_result"
    }
   ],
   "source": [
    "test_df['NumReviews'].head()"
   ]
  },
  {
   "cell_type": "code",
   "execution_count": 19,
   "metadata": {},
   "outputs": [],
   "source": [
    "# remove comas and convert to int\n",
    "def _(s):\n",
    "    if ',' in s:\n",
    "        s = int(s[0]) * 1000 + int(s.split(',')[-1])\n",
    "    return s\n",
    "\n",
    "for df in combine:\n",
    "    df['NumReviews'] = df['NumReviews'].map(_).astype('int')"
   ]
  },
  {
   "cell_type": "code",
   "execution_count": 20,
   "metadata": {},
   "outputs": [
    {
     "name": "stdout",
     "output_type": "stream",
     "text": [
      "count    6237.000000\n",
      "mean       35.984287\n",
      "std       149.995031\n",
      "min         1.000000\n",
      "25%         2.000000\n",
      "50%         7.000000\n",
      "75%        22.000000\n",
      "max      6090.000000\n",
      "Name: NumReviews, dtype: float64\n"
     ]
    },
    {
     "data": {
      "image/png": "[encoded data removed]",
      "text/plain": [
       "<Figure size 432x288 with 1 Axes>"
      ]
     },
     "metadata": {
      "needs_background": "light"
     },
     "output_type": "display_data"
    }
   ],
   "source": [
    "# check dtype changed or not\n",
    "print(train_df[\"NumReviews\"].describe())\n",
    "\n",
    "# visualize\n",
    "sns.boxplot(train_df['NumReviews']);"
   ]
  },
  {
   "cell_type": "code",
   "execution_count": 21,
   "metadata": {},
   "outputs": [],
   "source": [
    "# extract ratings\n",
    "for df in combine:\n",
    "    df['Rating'] = df['Reviews'].map(lambda s: s[:3]).astype('float')\n",
    "    df[\"Rating\"] = df[\"Rating\"] / 5.0"
   ]
  },
  {
   "cell_type": "code",
   "execution_count": 22,
   "metadata": {},
   "outputs": [
    {
     "name": "stdout",
     "output_type": "stream",
     "text": [
      "count    6237.00000\n",
      "mean        0.85864\n",
      "std         0.13250\n",
      "min         0.20000\n",
      "25%         0.80000\n",
      "50%         0.88000\n",
      "75%         0.96000\n",
      "max         1.00000\n",
      "Name: Rating, dtype: float64\n"
     ]
    },
    {
     "data": {
      "image/png": "[encoded data removed]",
      "text/plain": [
       "<Figure size 432x288 with 1 Axes>"
      ]
     },
     "metadata": {
      "needs_background": "light"
     },
     "output_type": "display_data"
    }
   ],
   "source": [
    "# check dtype changed or not\n",
    "print(train_df[\"Rating\"].describe())\n",
    "\n",
    "# visualize\n",
    "sns.boxplot(train_df['Rating']);"
   ]
  },
  {
   "cell_type": "code",
   "execution_count": 23,
   "metadata": {},
   "outputs": [
    {
     "data": {
      "text/plain": [
       "<matplotlib.axes._subplots.AxesSubplot at 0x24f08c46668>"
      ]
     },
     "execution_count": 23,
     "metadata": {},
     "output_type": "execute_result"
    },
    {
     "data": {
      "image/png": "[encoded data removed]",
      "text/plain": [
       "<Figure size 648x576 with 2 Axes>"
      ]
     },
     "metadata": {
      "needs_background": "light"
     },
     "output_type": "display_data"
    }
   ],
   "source": [
    "corrmat = train_df.corr() \n",
    "  \n",
    "f, ax = plt.subplots(figsize =(9, 8)) \n",
    "sns.heatmap(corrmat, ax = ax, cmap =\"YlGnBu\", linewidths = 0.1) "
   ]
  },
  {
   "cell_type": "markdown",
   "metadata": {},
   "source": [
    "# Check Shape and Data Types before Training"
   ]
  },
  {
   "cell_type": "code",
   "execution_count": 24,
   "metadata": {},
   "outputs": [
    {
     "name": "stdout",
     "output_type": "stream",
     "text": [
      "(6237, 13)\n",
      "['Title' 'Author' 'Edition' 'Reviews' 'Ratings' 'Synopsis' 'Genre'\n",
      " 'BookCategory' 'Price' 'Log Price' 'Year' 'NumReviews' 'Rating']\n",
      "(1560, 11)\n",
      "['Title' 'Author' 'Edition' 'Reviews' 'Ratings' 'Synopsis' 'Genre'\n",
      " 'BookCategory' 'Year' 'NumReviews' 'Rating']\n"
     ]
    }
   ],
   "source": [
    "#check features\n",
    "for df in combine:\n",
    "    print(df.shape)\n",
    "    print(df.columns.values)"
   ]
  },
  {
   "cell_type": "code",
   "execution_count": 25,
   "metadata": {},
   "outputs": [],
   "source": [
    "#final df with only numeric: [train_df, test_df]\n",
    "final_df = []\n",
    "final_df.append(combine[0].iloc[:, 10:])\n",
    "final_df.append(combine[1].iloc[:, 8:])"
   ]
  },
  {
   "cell_type": "code",
   "execution_count": 26,
   "metadata": {},
   "outputs": [
    {
     "name": "stdout",
     "output_type": "stream",
     "text": [
      "(6237, 3)\n",
      "['Year' 'NumReviews' 'Rating']\n",
      "(1560, 3)\n",
      "['Year' 'NumReviews' 'Rating']\n"
     ]
    }
   ],
   "source": [
    "#check features\n",
    "#should be same num of features\n",
    "for df in final_df:\n",
    "    print(df.shape)\n",
    "    print(df.columns.values)"
   ]
  },
  {
   "cell_type": "code",
   "execution_count": 27,
   "metadata": {},
   "outputs": [
    {
     "name": "stdout",
     "output_type": "stream",
     "text": [
      "(6237, 3)\n",
      "(1560, 3)\n"
     ]
    }
   ],
   "source": [
    "for df in final_df:\n",
    "    print(df.shape)"
   ]
  },
  {
   "cell_type": "code",
   "execution_count": 28,
   "metadata": {},
   "outputs": [
    {
     "name": "stdout",
     "output_type": "stream",
     "text": [
      "<class 'pandas.core.frame.DataFrame'>\n",
      "RangeIndex: 6237 entries, 0 to 6236\n",
      "Data columns (total 3 columns):\n",
      "Year          6237 non-null int32\n",
      "NumReviews    6237 non-null int32\n",
      "Rating        6237 non-null float64\n",
      "dtypes: float64(1), int32(2)\n",
      "memory usage: 97.5 KB\n"
     ]
    }
   ],
   "source": [
    "# verify if all are numeric and non-null\n",
    "final_df[0].info()"
   ]
  },
  {
   "cell_type": "code",
   "execution_count": 29,
   "metadata": {},
   "outputs": [
    {
     "name": "stdout",
     "output_type": "stream",
     "text": [
      "<class 'pandas.core.frame.DataFrame'>\n",
      "RangeIndex: 1560 entries, 0 to 1559\n",
      "Data columns (total 3 columns):\n",
      "Year          1560 non-null int32\n",
      "NumReviews    1560 non-null int32\n",
      "Rating        1560 non-null float64\n",
      "dtypes: float64(1), int32(2)\n",
      "memory usage: 24.5 KB\n"
     ]
    }
   ],
   "source": [
    "final_df[1].info()"
   ]
  },
  {
   "cell_type": "code",
   "execution_count": 30,
   "metadata": {},
   "outputs": [],
   "source": [
    "X = final_df[0]\n",
    "# train with Price instead of log price\n",
    "y = train_df['Price']\n",
    "\n",
    "from sklearn.model_selection import train_test_split\n",
    "X_train, X_valid, y_train, y_valid = train_test_split(X, y, \n",
    "                                                      test_size=0.3, random_state=15)"
   ]
  },
  {
   "cell_type": "code",
   "execution_count": 31,
   "metadata": {},
   "outputs": [
    {
     "data": {
      "text/plain": [
       "DecisionTreeRegressor(criterion='mse', max_depth=5, max_features=None,\n",
       "           max_leaf_nodes=None, min_impurity_decrease=0.0,\n",
       "           min_impurity_split=None, min_samples_leaf=1,\n",
       "           min_samples_split=2, min_weight_fraction_leaf=0.0,\n",
       "           presort=False, random_state=15, splitter='best')"
      ]
     },
     "execution_count": 31,
     "metadata": {},
     "output_type": "execute_result"
    }
   ],
   "source": [
    "from sklearn.tree import DecisionTreeRegressor\n",
    "tree = DecisionTreeRegressor(max_depth=5, random_state=15)\n",
    "tree.fit(X_train, y_train)"
   ]
  },
  {
   "cell_type": "code",
   "execution_count": 32,
   "metadata": {},
   "outputs": [],
   "source": [
    "y_pred = tree.predict(X_valid)\n",
    "y_true = y_valid"
   ]
  },
  {
   "cell_type": "code",
   "execution_count": 33,
   "metadata": {},
   "outputs": [
    {
     "name": "stdout",
     "output_type": "stream",
     "text": [
      "0.6548165860796906\n"
     ]
    }
   ],
   "source": [
    "error = np.square(np.log10(y_pred +1) - np.log10(y_true +1)).mean() ** 0.5\n",
    "score = 1 - error\n",
    "print(score)"
   ]
  },
  {
   "cell_type": "markdown",
   "metadata": {},
   "source": [
    "# -----------------------------------------------------------------------------------------"
   ]
  },
  {
   "cell_type": "markdown",
   "metadata": {},
   "source": [
    "# Let's Increase Accuracy Score"
   ]
  },
  {
   "cell_type": "markdown",
   "metadata": {},
   "source": [
    "- Use `log price` while training "
   ]
  },
  {
   "cell_type": "code",
   "execution_count": 34,
   "metadata": {},
   "outputs": [],
   "source": [
    "X = final_df[0]\n",
    "# train with log price\n",
    "y = train_df['Log Price']\n",
    "\n",
    "from sklearn.model_selection import train_test_split\n",
    "X_train, X_valid, y_train, y_valid = train_test_split(X, y, \n",
    "                                                      test_size=0.3, random_state=15)"
   ]
  },
  {
   "cell_type": "code",
   "execution_count": 35,
   "metadata": {},
   "outputs": [],
   "source": [
    "y_pred = tree.predict(X_valid)\n",
    "y_true = y_valid"
   ]
  },
  {
   "cell_type": "code",
   "execution_count": 36,
   "metadata": {},
   "outputs": [
    {
     "name": "stdout",
     "output_type": "stream",
     "text": [
      "-0.8913265065414553\n"
     ]
    }
   ],
   "source": [
    "error = np.square(np.log10(y_pred +1) - np.log10(y_true +1)).mean() ** 0.5\n",
    "score = 1 - error\n",
    "print(score)"
   ]
  },
  {
   "cell_type": "markdown",
   "metadata": {},
   "source": [
    "# -----------------------------------------------------------------------------------------"
   ]
  },
  {
   "cell_type": "markdown",
   "metadata": {},
   "source": [
    "# Why Stop Here? Let's increase even more!"
   ]
  },
  {
   "cell_type": "markdown",
   "metadata": {},
   "source": [
    "- Feature Scaling"
   ]
  },
  {
   "cell_type": "code",
   "execution_count": 37,
   "metadata": {},
   "outputs": [
    {
     "name": "stderr",
     "output_type": "stream",
     "text": [
      "E:\\ProgramData\\Anaconda3\\lib\\site-packages\\sklearn\\preprocessing\\data.py:645: DataConversionWarning: Data with input dtype int32, float64 were all converted to float64 by StandardScaler.\n",
      "  return self.partial_fit(X, y)\n",
      "E:\\ProgramData\\Anaconda3\\lib\\site-packages\\sklearn\\base.py:464: DataConversionWarning: Data with input dtype int32, float64 were all converted to float64 by StandardScaler.\n",
      "  return self.fit(X, **fit_params).transform(X)\n",
      "E:\\ProgramData\\Anaconda3\\lib\\site-packages\\sklearn\\preprocessing\\data.py:645: DataConversionWarning: Data with input dtype int32, float64 were all converted to float64 by StandardScaler.\n",
      "  return self.partial_fit(X, y)\n",
      "E:\\ProgramData\\Anaconda3\\lib\\site-packages\\sklearn\\base.py:464: DataConversionWarning: Data with input dtype int32, float64 were all converted to float64 by StandardScaler.\n",
      "  return self.fit(X, **fit_params).transform(X)\n"
     ]
    }
   ],
   "source": [
    "# feature scaling\n",
    "\n",
    "from sklearn.preprocessing import StandardScaler\n",
    "sc = StandardScaler()\n",
    "\n",
    "X_train = sc.fit_transform(final_df[0])\n",
    "X_test = sc.fit_transform(final_df[1])\n",
    "\n",
    "#numpy array\n",
    "y_train = train_df['Log Price'].values\n",
    "#Reshaping ti fit the scaler\n",
    "Y_train = y_train.reshape((len(y_train), 1)) \n",
    "\n",
    "Y_train = sc.fit_transform(Y_train)\n",
    "\n",
    "#Restoring the original shape after scaling\n",
    "Y_train = Y_train.ravel()"
   ]
  },
  {
   "cell_type": "code",
   "execution_count": 38,
   "metadata": {},
   "outputs": [],
   "source": [
    "X = X_train\n",
    "y = Y_train\n",
    "\n",
    "from sklearn.model_selection import train_test_split\n",
    "X_train, X_valid, y_train, y_valid = train_test_split(X, y, \n",
    "                                                      test_size=0.3, random_state=15)"
   ]
  },
  {
   "cell_type": "code",
   "execution_count": 39,
   "metadata": {},
   "outputs": [
    {
     "data": {
      "text/plain": [
       "DecisionTreeRegressor(criterion='mse', max_depth=5, max_features=None,\n",
       "           max_leaf_nodes=None, min_impurity_decrease=0.0,\n",
       "           min_impurity_split=None, min_samples_leaf=1,\n",
       "           min_samples_split=2, min_weight_fraction_leaf=0.0,\n",
       "           presort=False, random_state=15, splitter='best')"
      ]
     },
     "execution_count": 39,
     "metadata": {},
     "output_type": "execute_result"
    }
   ],
   "source": [
    "from sklearn.tree import DecisionTreeRegressor\n",
    "tree = DecisionTreeRegressor(max_depth=5, random_state=15)\n",
    "tree.fit(X_train, y_train)"
   ]
  },
  {
   "cell_type": "code",
   "execution_count": 40,
   "metadata": {},
   "outputs": [],
   "source": [
    "y_pred = sc.inverse_transform(tree.predict(X_valid))\n",
    "y_true = sc.inverse_transform(y_valid)"
   ]
  },
  {
   "cell_type": "code",
   "execution_count": 41,
   "metadata": {},
   "outputs": [
    {
     "name": "stdout",
     "output_type": "stream",
     "text": [
      "RMLSE Score =  0.9546673355352387\n"
     ]
    }
   ],
   "source": [
    "error = np.square(np.log10(y_pred +1) - np.log10(y_true +1)).mean() ** 0.5\n",
    "score = 1 - error\n",
    "print(\"RMLSE Score = \", score)"
   ]
  },
  {
   "cell_type": "markdown",
   "metadata": {},
   "source": [
    "# -----------------------------------------------------------------------------------------"
   ]
  },
  {
   "cell_type": "markdown",
   "metadata": {},
   "source": [
    "# Even Higher"
   ]
  },
  {
   "cell_type": "markdown",
   "metadata": {},
   "source": [
    "- Extrract Feature `Edition Type` and one hot encode it\n",
    "- Add one hot encoded `genre`\n",
    "- Add one hot encoded `book category`\n",
    "- Apply log transformation to others as well"
   ]
  },
  {
   "cell_type": "code",
   "execution_count": 42,
   "metadata": {},
   "outputs": [],
   "source": [
    "# Paperback or Hardcover or Others (PH)\n",
    "\n",
    "def ph(s):\n",
    "    if s[0]!='(':\n",
    "        s = s.split(',')[0]\n",
    "    else:\n",
    "        s = s.split(',')[1]\n",
    "    return s\n",
    "for df in combine:\n",
    "    df['PH'] = df['Edition'].map(ph)"
   ]
  },
  {
   "cell_type": "code",
   "execution_count": 43,
   "metadata": {},
   "outputs": [
    {
     "name": "stdout",
     "output_type": "stream",
     "text": [
      "Paperback                5197\n",
      "Hardcover                 823\n",
      "Mass Market Paperback     155\n",
      "Sheet music                24\n",
      "Flexibound                 15\n",
      "Cards                       8\n",
      "Spiral-bound                4\n",
      "Tankobon Softcover          3\n",
      "Loose Leaf                  2\n",
      "Perfect Paperback           1\n",
      "Board book                  1\n",
      "Library Binding             1\n",
      "Plastic Comb                1\n",
      "Product Bundle              1\n",
      "Leather Bound               1\n",
      "Name: PH, dtype: int64\n",
      "========================================\n",
      "Paperback                1266\n",
      "Hardcover                 233\n",
      "Mass Market Paperback      45\n",
      "Sheet music                 8\n",
      "Flexibound                  4\n",
      "Spiral-bound                2\n",
      "Loose Leaf                  1\n",
      "Cards                       1\n",
      "Name: PH, dtype: int64\n",
      "========================================\n"
     ]
    }
   ],
   "source": [
    "for df in combine:\n",
    "    print(df['PH'].value_counts())\n",
    "    print(\"=\"*40)"
   ]
  },
  {
   "cell_type": "code",
   "execution_count": 44,
   "metadata": {},
   "outputs": [
    {
     "name": "stdout",
     "output_type": "stream",
     "text": [
      "BEFORE\n",
      "========================================\n",
      "(6237, 14)\n",
      "(1560, 12)\n",
      "AFTER\n",
      "========================================\n",
      "(6237, 28)\n",
      "(1560, 19)\n"
     ]
    }
   ],
   "source": [
    "# remove extras while one hot encoding\n",
    "\n",
    "# one hot encoding\n",
    "print(\"BEFORE\")\n",
    "print(\"=\"*40)\n",
    "for df in combine:\n",
    "    print(df.shape)\n",
    "\n",
    "# for ph dummies\n",
    "df_1=[]\n",
    "\n",
    "print(\"AFTER\")\n",
    "print(\"=\"*40)\n",
    "for df in combine:\n",
    "    df = pd.get_dummies(df, columns=['PH'])\n",
    "    df_1.append(df)\n",
    "    print(df.shape)"
   ]
  },
  {
   "cell_type": "code",
   "execution_count": 45,
   "metadata": {},
   "outputs": [
    {
     "name": "stdout",
     "output_type": "stream",
     "text": [
      "['Title' 'Author' 'Edition' 'Reviews' 'Ratings' 'Synopsis' 'Genre'\n",
      " 'BookCategory' 'Price' 'Log Price' 'Year' 'NumReviews' 'Rating'\n",
      " 'PH_Board book' 'PH_Cards' 'PH_Flexibound' 'PH_Hardcover'\n",
      " 'PH_Leather Bound' 'PH_Library Binding' 'PH_Loose Leaf'\n",
      " 'PH_Mass Market Paperback' 'PH_Paperback' 'PH_Perfect Paperback'\n",
      " 'PH_Plastic Comb' 'PH_Product Bundle' 'PH_Sheet music' 'PH_Spiral-bound'\n",
      " 'PH_Tankobon Softcover']\n",
      "['Title' 'Author' 'Edition' 'Reviews' 'Ratings' 'Synopsis' 'Genre'\n",
      " 'BookCategory' 'Year' 'NumReviews' 'Rating' 'PH_Cards' 'PH_Flexibound'\n",
      " 'PH_Hardcover' 'PH_Loose Leaf' 'PH_Mass Market Paperback' 'PH_Paperback'\n",
      " 'PH_Sheet music' 'PH_Spiral-bound']\n"
     ]
    }
   ],
   "source": [
    "for df in df_1:\n",
    "    print(df.columns.values)"
   ]
  },
  {
   "cell_type": "code",
   "execution_count": 46,
   "metadata": {},
   "outputs": [],
   "source": [
    "# drop extras. \n",
    "# Could have added to 'Others'.\n",
    "df_1[0] = df_1[0].drop(['PH_Tankobon Softcover','PH_Library Binding', 'PH_Perfect Paperback', 'PH_Board book', 'PH_Product Bundle', 'PH_Leather Bound', 'PH_Plastic Comb'], axis=1)"
   ]
  },
  {
   "cell_type": "code",
   "execution_count": 47,
   "metadata": {},
   "outputs": [
    {
     "name": "stdout",
     "output_type": "stream",
     "text": [
      "['Title' 'Author' 'Edition' 'Reviews' 'Ratings' 'Synopsis' 'Genre'\n",
      " 'BookCategory' 'Price' 'Log Price' 'Year' 'NumReviews' 'Rating'\n",
      " 'PH_Cards' 'PH_Flexibound' 'PH_Hardcover' 'PH_Loose Leaf'\n",
      " 'PH_Mass Market Paperback' 'PH_Paperback' 'PH_Sheet music'\n",
      " 'PH_Spiral-bound']\n",
      "(6237, 21)\n",
      "['Title' 'Author' 'Edition' 'Reviews' 'Ratings' 'Synopsis' 'Genre'\n",
      " 'BookCategory' 'Year' 'NumReviews' 'Rating' 'PH_Cards' 'PH_Flexibound'\n",
      " 'PH_Hardcover' 'PH_Loose Leaf' 'PH_Mass Market Paperback' 'PH_Paperback'\n",
      " 'PH_Sheet music' 'PH_Spiral-bound']\n",
      "(1560, 19)\n"
     ]
    }
   ],
   "source": [
    "for df in df_1:\n",
    "    print(df.columns.values)\n",
    "    print(df.shape)"
   ]
  },
  {
   "cell_type": "code",
   "execution_count": 48,
   "metadata": {},
   "outputs": [],
   "source": [
    "#final df with only numeric: [train_df, test_df]\n",
    "final_df = []\n",
    "final_df.append(df_1[0].iloc[:, 11:])\n",
    "final_df.append(df_1[1].iloc[:, 9:])"
   ]
  },
  {
   "cell_type": "code",
   "execution_count": 49,
   "metadata": {},
   "outputs": [
    {
     "name": "stdout",
     "output_type": "stream",
     "text": [
      "(6237, 10)\n",
      "['NumReviews' 'Rating' 'PH_Cards' 'PH_Flexibound' 'PH_Hardcover'\n",
      " 'PH_Loose Leaf' 'PH_Mass Market Paperback' 'PH_Paperback'\n",
      " 'PH_Sheet music' 'PH_Spiral-bound']\n",
      "(1560, 10)\n",
      "['NumReviews' 'Rating' 'PH_Cards' 'PH_Flexibound' 'PH_Hardcover'\n",
      " 'PH_Loose Leaf' 'PH_Mass Market Paperback' 'PH_Paperback'\n",
      " 'PH_Sheet music' 'PH_Spiral-bound']\n"
     ]
    }
   ],
   "source": [
    "for df in final_df:\n",
    "    print(df.shape)\n",
    "    print(df.columns.values)"
   ]
  },
  {
   "cell_type": "code",
   "execution_count": 50,
   "metadata": {},
   "outputs": [
    {
     "name": "stdout",
     "output_type": "stream",
     "text": [
      "(6237, 10)\n",
      "(1560, 10)\n"
     ]
    }
   ],
   "source": [
    "#verify if train and test dimensions are SAME\n",
    "for df in final_df:\n",
    "    print(df.shape)"
   ]
  },
  {
   "cell_type": "code",
   "execution_count": 51,
   "metadata": {},
   "outputs": [
    {
     "name": "stdout",
     "output_type": "stream",
     "text": [
      "<class 'pandas.core.frame.DataFrame'>\n",
      "RangeIndex: 6237 entries, 0 to 6236\n",
      "Data columns (total 10 columns):\n",
      "NumReviews                  6237 non-null int32\n",
      "Rating                      6237 non-null float64\n",
      "PH_Cards                    6237 non-null uint8\n",
      "PH_Flexibound               6237 non-null uint8\n",
      "PH_Hardcover                6237 non-null uint8\n",
      "PH_Loose Leaf               6237 non-null uint8\n",
      "PH_Mass Market Paperback    6237 non-null uint8\n",
      "PH_Paperback                6237 non-null uint8\n",
      "PH_Sheet music              6237 non-null uint8\n",
      "PH_Spiral-bound             6237 non-null uint8\n",
      "dtypes: float64(1), int32(1), uint8(8)\n",
      "memory usage: 121.9 KB\n",
      "None\n",
      "========================================\n",
      "<class 'pandas.core.frame.DataFrame'>\n",
      "RangeIndex: 1560 entries, 0 to 1559\n",
      "Data columns (total 10 columns):\n",
      "NumReviews                  1560 non-null int32\n",
      "Rating                      1560 non-null float64\n",
      "PH_Cards                    1560 non-null uint8\n",
      "PH_Flexibound               1560 non-null uint8\n",
      "PH_Hardcover                1560 non-null uint8\n",
      "PH_Loose Leaf               1560 non-null uint8\n",
      "PH_Mass Market Paperback    1560 non-null uint8\n",
      "PH_Paperback                1560 non-null uint8\n",
      "PH_Sheet music              1560 non-null uint8\n",
      "PH_Spiral-bound             1560 non-null uint8\n",
      "dtypes: float64(1), int32(1), uint8(8)\n",
      "memory usage: 30.5 KB\n",
      "None\n",
      "========================================\n"
     ]
    }
   ],
   "source": [
    "for df in final_df:\n",
    "    print(df.info())\n",
    "    print(\"=\"*40)"
   ]
  },
  {
   "cell_type": "code",
   "execution_count": 52,
   "metadata": {},
   "outputs": [
    {
     "name": "stderr",
     "output_type": "stream",
     "text": [
      "E:\\ProgramData\\Anaconda3\\lib\\site-packages\\sklearn\\preprocessing\\data.py:645: DataConversionWarning: Data with input dtype uint8, int32, float64 were all converted to float64 by StandardScaler.\n",
      "  return self.partial_fit(X, y)\n",
      "E:\\ProgramData\\Anaconda3\\lib\\site-packages\\sklearn\\base.py:464: DataConversionWarning: Data with input dtype uint8, int32, float64 were all converted to float64 by StandardScaler.\n",
      "  return self.fit(X, **fit_params).transform(X)\n",
      "E:\\ProgramData\\Anaconda3\\lib\\site-packages\\sklearn\\preprocessing\\data.py:645: DataConversionWarning: Data with input dtype uint8, int32, float64 were all converted to float64 by StandardScaler.\n",
      "  return self.partial_fit(X, y)\n",
      "E:\\ProgramData\\Anaconda3\\lib\\site-packages\\sklearn\\base.py:464: DataConversionWarning: Data with input dtype uint8, int32, float64 were all converted to float64 by StandardScaler.\n",
      "  return self.fit(X, **fit_params).transform(X)\n"
     ]
    }
   ],
   "source": [
    "# feature scaling\n",
    "\n",
    "from sklearn.preprocessing import StandardScaler\n",
    "sc = StandardScaler()\n",
    "\n",
    "X_train = sc.fit_transform(final_df[0])\n",
    "X_test = sc.fit_transform(final_df[1])\n",
    "\n",
    "#numpy array\n",
    "y_train = train_df['Log Price'].values\n",
    "#Reshaping ti fit the scaler\n",
    "Y_train = y_train.reshape((len(y_train), 1)) \n",
    "\n",
    "Y_train = sc.fit_transform(Y_train)\n",
    "\n",
    "#Restoring the original shape after scaling\n",
    "Y_train = Y_train.ravel()"
   ]
  },
  {
   "cell_type": "code",
   "execution_count": 53,
   "metadata": {},
   "outputs": [],
   "source": [
    "X = X_train\n",
    "y = Y_train\n",
    "\n",
    "from sklearn.model_selection import train_test_split\n",
    "X_train, X_valid, y_train, y_valid = train_test_split(X, y, \n",
    "                                                      test_size=0.3, random_state=15)"
   ]
  },
  {
   "cell_type": "code",
   "execution_count": 54,
   "metadata": {},
   "outputs": [
    {
     "data": {
      "text/plain": [
       "DecisionTreeRegressor(criterion='mse', max_depth=5, max_features=None,\n",
       "           max_leaf_nodes=None, min_impurity_decrease=0.0,\n",
       "           min_impurity_split=None, min_samples_leaf=1,\n",
       "           min_samples_split=2, min_weight_fraction_leaf=0.0,\n",
       "           presort=False, random_state=15, splitter='best')"
      ]
     },
     "execution_count": 54,
     "metadata": {},
     "output_type": "execute_result"
    }
   ],
   "source": [
    "from sklearn.tree import DecisionTreeRegressor\n",
    "tree = DecisionTreeRegressor(max_depth=5, random_state=15)\n",
    "tree.fit(X_train, y_train)"
   ]
  },
  {
   "cell_type": "code",
   "execution_count": 55,
   "metadata": {},
   "outputs": [],
   "source": [
    "y_pred = sc.inverse_transform(tree.predict(X_valid))\n",
    "y_true = sc.inverse_transform(y_valid)"
   ]
  },
  {
   "cell_type": "code",
   "execution_count": 56,
   "metadata": {},
   "outputs": [
    {
     "name": "stdout",
     "output_type": "stream",
     "text": [
      "RMLSE Score =  0.9559429305359847\n"
     ]
    }
   ],
   "source": [
    "error = np.square(np.log10(y_pred +1) - np.log10(y_true +1)).mean() ** 0.5\n",
    "score = 1 - error\n",
    "print(\"RMLSE Score = \", score)"
   ]
  },
  {
   "cell_type": "code",
   "execution_count": 58,
   "metadata": {},
   "outputs": [],
   "source": [
    "#RMLSE Score =  0.9559429305359847\n",
    "#increased 0.005"
   ]
  },
  {
   "cell_type": "markdown",
   "metadata": {},
   "source": [
    "## Bayesian Optimisation"
   ]
  },
  {
   "cell_type": "code",
   "execution_count": 63,
   "metadata": {},
   "outputs": [],
   "source": [
    "'''pip install bayesian-optimization'''\n",
    "from bayes_opt import BayesianOptimization\n",
    "import xgboost as xgb"
   ]
  },
  {
   "cell_type": "code",
   "execution_count": 64,
   "metadata": {},
   "outputs": [],
   "source": [
    "dtrain = xgb.DMatrix(X_train, label= y_train)"
   ]
  },
  {
   "cell_type": "code",
   "execution_count": 65,
   "metadata": {},
   "outputs": [],
   "source": [
    "def bo_tune_xgb(max_depth, gamma, n_estimators ,learning_rate):\n",
    "    params = {'max_depth': int(max_depth),\n",
    "              'gamma': gamma,      \n",
    "              'n_estimators': int(n_estimators),\n",
    "              'learning_rate':learning_rate,\n",
    "              'subsample': 0.8,\n",
    "              'eta': 0.1,\n",
    "              'eval_metric': 'rmse'}\n",
    "    \n",
    "    #Cross validating with the specified parameters in 5 folds and 70 iterations\n",
    "    cv_result = xgb.cv(params, dtrain, num_boost_round=100, nfold=10)    \n",
    "    \n",
    "    #Return the negative RMSE\n",
    "    return -1.0 * cv_result['test-rmse-mean'].iloc[-1]"
   ]
  },
  {
   "cell_type": "code",
   "execution_count": 66,
   "metadata": {},
   "outputs": [
    {
     "name": "stdout",
     "output_type": "stream",
     "text": [
      "|   iter    |  target   |   gamma   | learni... | max_depth | n_esti... |\n",
      "-------------------------------------------------------------------------\n",
      "| \u001b[0m 1       \u001b[0m | \u001b[0m-0.9511  \u001b[0m | \u001b[0m 0.8933  \u001b[0m | \u001b[0m 0.07651 \u001b[0m | \u001b[0m 81.89   \u001b[0m | \u001b[0m 727.2   \u001b[0m |\n",
      "| \u001b[0m 2       \u001b[0m | \u001b[0m-1.006   \u001b[0m | \u001b[0m 0.1779  \u001b[0m | \u001b[0m 0.2917  \u001b[0m | \u001b[0m 74.17   \u001b[0m | \u001b[0m 244.7   \u001b[0m |\n",
      "| \u001b[0m 3       \u001b[0m | \u001b[0m-1.011   \u001b[0m | \u001b[0m 0.5068  \u001b[0m | \u001b[0m 0.6052  \u001b[0m | \u001b[0m 36.94   \u001b[0m | \u001b[0m 415.9   \u001b[0m |\n",
      "| \u001b[0m 4       \u001b[0m | \u001b[0m-1.064   \u001b[0m | \u001b[0m 0.1971  \u001b[0m | \u001b[0m 0.8818  \u001b[0m | \u001b[0m 257.8   \u001b[0m | \u001b[0m 137.4   \u001b[0m |\n",
      "| \u001b[0m 5       \u001b[0m | \u001b[0m-0.9537  \u001b[0m | \u001b[0m 0.9325  \u001b[0m | \u001b[0m 0.09819 \u001b[0m | \u001b[0m 43.84   \u001b[0m | \u001b[0m 304.8   \u001b[0m |\n",
      "| \u001b[95m 6       \u001b[0m | \u001b[95m-0.9366  \u001b[0m | \u001b[95m 0.7367  \u001b[0m | \u001b[95m 0.2697  \u001b[0m | \u001b[95m 5.262   \u001b[0m | \u001b[95m 762.7   \u001b[0m |\n",
      "| \u001b[0m 7       \u001b[0m | \u001b[0m-0.9834  \u001b[0m | \u001b[0m 0.2692  \u001b[0m | \u001b[0m 0.1115  \u001b[0m | \u001b[0m 92.62   \u001b[0m | \u001b[0m 712.9   \u001b[0m |\n",
      "| \u001b[0m 8       \u001b[0m | \u001b[0m-1.029   \u001b[0m | \u001b[0m 0.739   \u001b[0m | \u001b[0m 0.8297  \u001b[0m | \u001b[0m 149.0   \u001b[0m | \u001b[0m 934.9   \u001b[0m |\n",
      "| \u001b[0m 9       \u001b[0m | \u001b[0m-1.02    \u001b[0m | \u001b[0m 0.2868  \u001b[0m | \u001b[0m 0.498   \u001b[0m | \u001b[0m 38.99   \u001b[0m | \u001b[0m 637.2   \u001b[0m |\n",
      "| \u001b[0m 10      \u001b[0m | \u001b[0m-0.9943  \u001b[0m | \u001b[0m 0.1352  \u001b[0m | \u001b[0m 0.1499  \u001b[0m | \u001b[0m 292.5   \u001b[0m | \u001b[0m 332.0   \u001b[0m |\n",
      "| \u001b[0m 11      \u001b[0m | \u001b[0m-1.116   \u001b[0m | \u001b[0m 1.0     \u001b[0m | \u001b[0m 0.0     \u001b[0m | \u001b[0m 1.0     \u001b[0m | \u001b[0m 1.0     \u001b[0m |\n",
      "| \u001b[0m 12      \u001b[0m | \u001b[0m-1.018   \u001b[0m | \u001b[0m 0.995   \u001b[0m | \u001b[0m 0.7889  \u001b[0m | \u001b[0m 67.16   \u001b[0m | \u001b[0m 806.0   \u001b[0m |\n",
      "| \u001b[0m 13      \u001b[0m | \u001b[0m-1.116   \u001b[0m | \u001b[0m 1.0     \u001b[0m | \u001b[0m 0.0     \u001b[0m | \u001b[0m 300.0   \u001b[0m | \u001b[0m 1e+03   \u001b[0m |\n",
      "| \u001b[0m 14      \u001b[0m | \u001b[0m-1.116   \u001b[0m | \u001b[0m 1.0     \u001b[0m | \u001b[0m 0.0     \u001b[0m | \u001b[0m 300.0   \u001b[0m | \u001b[0m 1.0     \u001b[0m |\n",
      "| \u001b[0m 15      \u001b[0m | \u001b[0m-1.116   \u001b[0m | \u001b[0m 1.0     \u001b[0m | \u001b[0m 0.0     \u001b[0m | \u001b[0m 1.0     \u001b[0m | \u001b[0m 718.7   \u001b[0m |\n",
      "| \u001b[0m 16      \u001b[0m | \u001b[0m-1.116   \u001b[0m | \u001b[0m 1.0     \u001b[0m | \u001b[0m 0.0     \u001b[0m | \u001b[0m 1.0     \u001b[0m | \u001b[0m 1e+03   \u001b[0m |\n",
      "| \u001b[0m 17      \u001b[0m | \u001b[0m-1.046   \u001b[0m | \u001b[0m 1.0     \u001b[0m | \u001b[0m 1.0     \u001b[0m | \u001b[0m 300.0   \u001b[0m | \u001b[0m 520.9   \u001b[0m |\n",
      "| \u001b[0m 18      \u001b[0m | \u001b[0m-1.116   \u001b[0m | \u001b[0m 1.0     \u001b[0m | \u001b[0m 0.0     \u001b[0m | \u001b[0m 159.4   \u001b[0m | \u001b[0m 475.1   \u001b[0m |\n",
      "| \u001b[95m 19      \u001b[0m | \u001b[95m-0.9181  \u001b[0m | \u001b[95m 1.0     \u001b[0m | \u001b[95m 1.0     \u001b[0m | \u001b[95m 1.0     \u001b[0m | \u001b[95m 197.4   \u001b[0m |\n",
      "| \u001b[0m 20      \u001b[0m | \u001b[0m-1.116   \u001b[0m | \u001b[0m 1.0     \u001b[0m | \u001b[0m 0.0     \u001b[0m | \u001b[0m 300.0   \u001b[0m | \u001b[0m 801.6   \u001b[0m |\n",
      "=========================================================================\n"
     ]
    }
   ],
   "source": [
    "xgb_bo = BayesianOptimization(bo_tune_xgb, {'max_depth': (1, 300), \n",
    "                                             'gamma': (0, 1),\n",
    "                                             'learning_rate':(0,1),\n",
    "                                             'n_estimators':(1,1000)\n",
    "                                            })\n",
    "\n",
    "\n",
    "xgb_bo.maximize(n_iter=10, init_points=10, acq='ei')"
   ]
  },
  {
   "cell_type": "code",
   "execution_count": 67,
   "metadata": {},
   "outputs": [
    {
     "name": "stdout",
     "output_type": "stream",
     "text": [
      "{'gamma': 1.0, 'learning_rate': 1.0, 'max_depth': 1.0, 'n_estimators': 197.429028008118}\n",
      "{'gamma': 1.0, 'learning_rate': 1.0, 'max_depth': 1, 'n_estimators': 197}\n"
     ]
    }
   ],
   "source": [
    "#Extracting the best parameters\n",
    "params = xgb_bo.max['params']\n",
    "\n",
    "print(params)\n",
    "\n",
    "#Conversting the max_depth and n_estimator values from float to int\n",
    "params['max_depth']= int(round(params['max_depth']))\n",
    "params['n_estimators']= int(round(params['n_estimators']))\n",
    "\n",
    "print(params)"
   ]
  },
  {
   "cell_type": "code",
   "execution_count": 68,
   "metadata": {},
   "outputs": [
    {
     "name": "stdout",
     "output_type": "stream",
     "text": [
      "[01:26:33] WARNING: C:/Jenkins/workspace/xgboost-win64_release_0.90/src/objective/regression_obj.cu:152: reg:linear is now deprecated in favor of reg:squarederror.\n"
     ]
    }
   ],
   "source": [
    "#Initialize an XGB with the tuned parameters and fit the training data\n",
    "from xgboost import XGBRegressor\n",
    "reg = XGBRegressor(**params).fit(X_train,y_train)"
   ]
  },
  {
   "cell_type": "code",
   "execution_count": 69,
   "metadata": {},
   "outputs": [],
   "source": [
    "y_pred = sc.inverse_transform(reg.predict(X_valid))\n",
    "y_true = sc.inverse_transform(y_valid)"
   ]
  },
  {
   "cell_type": "code",
   "execution_count": 70,
   "metadata": {},
   "outputs": [
    {
     "name": "stdout",
     "output_type": "stream",
     "text": [
      "RMLSE Score =  0.9559374820569368\n"
     ]
    }
   ],
   "source": [
    "error = np.square(np.log10(y_pred +1) - np.log10(y_true +1)).mean() ** 0.5\n",
    "score = 1 - error\n",
    "print(\"RMLSE Score = \", score)"
   ]
  },
  {
   "cell_type": "code",
   "execution_count": 71,
   "metadata": {},
   "outputs": [
    {
     "data": {
      "text/plain": [
       "6237"
      ]
     },
     "execution_count": 71,
     "metadata": {},
     "output_type": "execute_result"
    }
   ],
   "source": [
    "len(Y_train)"
   ]
  },
  {
   "cell_type": "code",
   "execution_count": 72,
   "metadata": {},
   "outputs": [
    {
     "data": {
      "text/plain": [
       "4365"
      ]
     },
     "execution_count": 72,
     "metadata": {},
     "output_type": "execute_result"
    }
   ],
   "source": [
    "len(X_train)"
   ]
  },
  {
   "cell_type": "code",
   "execution_count": null,
   "metadata": {},
   "outputs": [],
   "source": []
  }
 ],
 "metadata": {
  "kernelspec": {
   "display_name": "Python 3",
   "language": "python",
   "name": "python3"
  },
  "language_info": {
   "codemirror_mode": {
    "name": "ipython",
    "version": 3
   },
   "file_extension": ".py",
   "mimetype": "text/x-python",
   "name": "python",
   "nbconvert_exporter": "python",
   "pygments_lexer": "ipython3",
   "version": "3.7.3"
  }
 },
 "nbformat": 4,
 "nbformat_minor": 2
}
